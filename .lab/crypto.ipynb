{
 "cells": [
  {
   "cell_type": "code",
   "execution_count": 5,
   "metadata": {},
   "outputs": [],
   "source": [
    "from skyant.tools.crypto import AES\n",
    "from datetime import datetime as dt"
   ]
  },
  {
   "cell_type": "code",
   "execution_count": 10,
   "metadata": {},
   "outputs": [],
   "source": [
    "env['SECRET_KEY'] = 'awsjf9348yty4wytnf2y4r0f'\n",
    "\n",
    "aes = AES()"
   ]
  },
  {
   "cell_type": "code",
   "execution_count": 11,
   "metadata": {},
   "outputs": [
    {
     "name": "stdout",
     "output_type": "stream",
     "text": [
      "On0pyMyHWrMFMWac12hVzwT5S5LqnwnrU1QZnDj31IHEofHW4+5aPRwcnq2v+3Ok\n",
      "<class 'str'>\n",
      "{'wr': 34, 'ss': 'dd'}\n"
     ]
    }
   ],
   "source": [
    "data = {'wr': 34, 'ss': 'dd'}\n",
    "\n",
    "x = aes.encrypt(data)\n",
    "print(x)\n",
    "\n",
    "y = aes.decrypt(x)\n",
    "print(type(y))\n",
    "print(y)"
   ]
  }
 ],
 "metadata": {
  "kernelspec": {
   "display_name": "Python 3.10.5 ('dev': venv)",
   "language": "python",
   "name": "python3"
  },
  "language_info": {
   "codemirror_mode": {
    "name": "ipython",
    "version": 3
   },
   "file_extension": ".py",
   "mimetype": "text/x-python",
   "name": "python",
   "nbconvert_exporter": "python",
   "pygments_lexer": "ipython3",
   "version": "3.10.5"
  },
  "orig_nbformat": 4,
  "vscode": {
   "interpreter": {
    "hash": "a0f321f11c055399daab04642922752e5cb922c83889c655d5c51ca9f090e278"
   }
  }
 },
 "nbformat": 4,
 "nbformat_minor": 2
}
